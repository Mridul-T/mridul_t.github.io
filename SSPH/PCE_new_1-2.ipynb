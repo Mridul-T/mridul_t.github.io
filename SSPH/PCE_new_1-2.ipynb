{
 "cells": [
  {
   "cell_type": "code",
   "execution_count": 1,
   "metadata": {},
   "outputs": [
    {
     "name": "stdout",
     "output_type": "stream",
     "text": [
      "Using device: cuda\n"
     ]
    }
   ],
   "source": [
    "import numpy as np\n",
    "import matplotlib.pyplot as plt\n",
    "import torch\n",
    "import pickle\n",
    "from scipy.integrate import quad ## FUNCTIONS TO IMPLEMENT GAUSS-QUADRATURE\n",
    "# from scipy.integrate import quad_vec ## FUNCTIONS TO IMPLEMENT GAUSS-QUADRATURE\n",
    "from scipy.special import hermite,legendre\n",
    "from scipy.linalg import eigh\n",
    "import time\n",
    "np.random.seed(20)\n",
    "device = torch.device('cuda' if torch.cuda.is_available() else 'cpu')\n",
    "print(f\"Using device: {device}\")"
   ]
  },
  {
   "cell_type": "code",
   "execution_count": 2,
   "metadata": {},
   "outputs": [],
   "source": [
    "t1=time.time()"
   ]
  },
  {
   "cell_type": "code",
   "execution_count": 3,
   "metadata": {},
   "outputs": [],
   "source": [
    "# This will set the default to float32 or float64 but not float16\n",
    "torch.set_default_dtype(torch.float32)"
   ]
  },
  {
   "cell_type": "code",
   "execution_count": 4,
   "metadata": {},
   "outputs": [],
   "source": [
    "# current_device = torch.cuda.current_device()\n",
    "# torch.cuda.get_device_properties(current_device)"
   ]
  },
  {
   "cell_type": "code",
   "execution_count": 5,
   "metadata": {},
   "outputs": [
    {
     "name": "stderr",
     "output_type": "stream",
     "text": [
      "C:\\Users\\CMMRG\\anaconda3\\Lib\\site-packages\\torch\\__init__.py:749: UserWarning: torch.set_default_tensor_type() is deprecated as of PyTorch 2.1, please use torch.set_default_dtype() and torch.set_default_device() as alternatives. (Triggered internally at ..\\torch\\csrc\\tensor\\python_tensor.cpp:433.)\n",
      "  _C._set_default_tensor_type(t)\n"
     ]
    }
   ],
   "source": [
    "# Set the default tensor type to use GPU if available\n",
    "if torch.cuda.is_available():\n",
    "    torch.set_default_tensor_type(torch.cuda.FloatTensor)\n",
    "else:\n",
    "    torch.set_default_tensor_type(torch.FloatTensor)\n",
    "torch.set_default_tensor_type(torch.FloatTensor)"
   ]
  },
  {
   "cell_type": "code",
   "execution_count": 6,
   "metadata": {},
   "outputs": [
    {
     "name": "stdout",
     "output_type": "stream",
     "text": [
      "The scalar product of the orthonormal probabilistic Hermite polynomials H_2(x) and H_2(x) is approximately 1.0000000000000022\n",
      "The scalar product of the orthonormal probabilistic Hermite polynomials H_2(x) and H_3(x) is approximately 0.0\n"
     ]
    },
    {
     "name": "stderr",
     "output_type": "stream",
     "text": [
      "C:\\Users\\CMMRG\\AppData\\Local\\Temp\\ipykernel_1800\\293942335.py:3: DeprecationWarning: `np.math` is a deprecated alias for the standard library `math` module (Deprecated Numpy 1.25). Replace usages of `np.math` with `math`\n",
      "  return lambda x: hermite(n)(x/np.sqrt(2.0)) / np.sqrt((2.0)**n * np.math.factorial(n))\n"
     ]
    }
   ],
   "source": [
    "# Define the orthonormal probabilistic Hermite polynomial\n",
    "def orthonormal_prob_hermite(n):\n",
    "    return lambda x: hermite(n)(x/np.sqrt(2.0)) / np.sqrt((2.0)**n * np.math.factorial(n))\n",
    "\n",
    "# Define the orthonormal probabilistic Legendre polynomial\n",
    "def orthonormal_legendre(n):\n",
    "    return lambda x: legendre(n)(x) * np.sqrt(n+0.5)\n",
    "\n",
    "# Define the integrand for scalar product\n",
    "def scalar_int(i,j):\n",
    "    return lambda x:orthonormal_prob_hermite(i)(x) * orthonormal_prob_hermite(j)(x) * np.exp(-(x**2/2))/np.sqrt(2*np.pi)\n",
    "\n",
    "# Define the integrand for triple product\n",
    "def triple_int(i,j,k):\n",
    "    return lambda x:orthonormal_prob_hermite(i)(x) * orthonormal_prob_hermite(j)(x)* orthonormal_prob_hermite(k)(x) * np.exp(-(x**2/2))/np.sqrt(2*np.pi)\n",
    "\n",
    "# Integrate to verify orthonormality\n",
    "integral1, _ = quad(scalar_int(2,2), -np.inf, np.inf)\n",
    "integral2, _ = quad(scalar_int(2,3), -np.inf, np.inf)\n",
    "print(f\"The scalar product of the orthonormal probabilistic Hermite polynomials H_2(x) and H_2(x) is approximately {integral1}\")\n",
    "print(f\"The scalar product of the orthonormal probabilistic Hermite polynomials H_2(x) and H_3(x) is approximately {integral2}\")"
   ]
  },
  {
   "cell_type": "code",
   "execution_count": 7,
   "metadata": {},
   "outputs": [
    {
     "data": {
      "text/plain": [
       "100"
      ]
     },
     "execution_count": 7,
     "metadata": {},
     "output_type": "execute_result"
    }
   ],
   "source": [
    "k=1\n",
    "con = 1\n",
    "particles_per_unit=50*k\n",
    "dx = con/particles_per_unit\n",
    "ratio=1.6\n",
    "h=ratio*dx\n",
    "c_ = 2 * h\n",
    "q=30\n",
    "max_ord=3\n",
    "n_samples=96 * 50\n",
    "\n",
    "J = particles_per_unit**2 #total number of particles\n",
    "rho = 1000*torch.ones(J)  ## for steel\n",
    "mass = rho * dx**2\n",
    "rho0=rho\n",
    "vis=0.05\n",
    "T = 0.3               # Total time of integration\n",
    "dt = 0.003          # Time step\n",
    "N = int(T/dt)\n",
    "N  "
   ]
  },
  {
   "cell_type": "code",
   "execution_count": 8,
   "metadata": {},
   "outputs": [],
   "source": [
    "def find_combinations(q, max_ord,current_sum=0, current_combination=None, all_combinations=None):\n",
    "    if current_combination is None:\n",
    "        current_combination = []\n",
    "    if all_combinations is None:\n",
    "        all_combinations = []\n",
    "        \n",
    "    if len(current_combination) == q:\n",
    "        if current_sum < max_ord:\n",
    "            all_combinations.append(current_combination[:])\n",
    "        return all_combinations\n",
    "    \n",
    "    for i in range(max_ord - current_sum):\n",
    "        current_combination.append(i)\n",
    "        find_combinations(q, max_ord,current_sum + i, current_combination, all_combinations)\n",
    "        current_combination.pop()\n",
    "\n",
    "    return all_combinations"
   ]
  },
  {
   "cell_type": "code",
   "execution_count": 9,
   "metadata": {},
   "outputs": [
    {
     "data": {
      "text/plain": [
       "496"
      ]
     },
     "execution_count": 9,
     "metadata": {},
     "output_type": "execute_result"
    }
   ],
   "source": [
    "index=np.array(find_combinations(q,max_ord))\n",
    "P=index.shape[0]\n",
    "P"
   ]
  },
  {
   "cell_type": "code",
   "execution_count": 10,
   "metadata": {},
   "outputs": [
    {
     "data": {
      "text/plain": [
       "array([[0, 0, 0, ..., 0, 0, 0],\n",
       "       [0, 0, 0, ..., 0, 0, 1],\n",
       "       [0, 0, 0, ..., 0, 0, 2],\n",
       "       ...,\n",
       "       [1, 0, 1, ..., 0, 0, 0],\n",
       "       [1, 1, 0, ..., 0, 0, 0],\n",
       "       [2, 0, 0, ..., 0, 0, 0]])"
      ]
     },
     "execution_count": 10,
     "metadata": {},
     "output_type": "execute_result"
    }
   ],
   "source": [
    "index"
   ]
  },
  {
   "cell_type": "code",
   "execution_count": 11,
   "metadata": {},
   "outputs": [
    {
     "name": "stderr",
     "output_type": "stream",
     "text": [
      "C:\\Users\\CMMRG\\anaconda3\\Lib\\site-packages\\torch\\functional.py:512: UserWarning: torch.meshgrid: in an upcoming release, it will be required to pass the indexing argument. (Triggered internally at ..\\aten\\src\\ATen\\native\\TensorShape.cpp:3588.)\n",
      "  return _VF.meshgrid(tensors, **kwargs)  # type: ignore[attr-defined]\n"
     ]
    }
   ],
   "source": [
    "x_values = torch.linspace(0, 1*con, particles_per_unit)\n",
    "y_values = torch.linspace(0, 1*con, particles_per_unit)\n",
    "# Create a meshgrid\n",
    "X, Y = torch.meshgrid(x_values, y_values)\n",
    "# print(X.shape)\n",
    "\n",
    "# Flatten the meshgrid arrays for 1D function application\n",
    "X_flat = X.flatten()\n",
    "Y_flat = Y.flatten()\n",
    "\n",
    "temp=tuple(zip(X_flat,Y_flat))\n",
    "temp=torch.tensor(temp)\n",
    "coords=torch.zeros(P,J,2)\n",
    "coords[0]=temp"
   ]
  },
  {
   "cell_type": "code",
   "execution_count": 12,
   "metadata": {},
   "outputs": [],
   "source": [
    "def create_sample(i):\n",
    "    np.random.seed(i)\n",
    "    L=4\n",
    "    a_ij = np.random.normal(0, 1, (2,2*L+1, 2*L+1))\n",
    "    b_ij = np.random.normal(0, 1, (2,2*L+1, 2*L+1))\n",
    "    c = np.random.uniform(-1, 1, 2)\n",
    "    \n",
    "    \n",
    "    # Define the w(x, y) function\n",
    "    def w(x, y,n=particles_per_unit):\n",
    "        result = torch.zeros(2,n,n).cpu()\n",
    "        m = torch.ones(2,n,n).cpu()\n",
    "        for i in range(-L, L+1):\n",
    "            for j in range(-L, L+1):\n",
    "                result[0] += (a_ij[0,i+L, j+L] * np.sin(2*np.pi*(i*x.cpu() + j*y.cpu())) + b_ij[0,i+L, j+L] * np.cos(2*np.pi*(i*x.cpu() + j*y.cpu())))\n",
    "                result[1] += (a_ij[1,i+L, j+L] * np.sin(2*np.pi*(i*x.cpu() + j*y.cpu())) + b_ij[1,i+L, j+L] * np.cos(2*np.pi*(i*x.cpu() + j*y.cpu()))) \n",
    "        m[0] = 10*(1-(np.exp((y.cpu())*(1-y.cpu())))) *(1-(np.exp((-x.cpu())*(1-x.cpu()))))\n",
    "        m[1] = 10*(1-(np.exp((y.cpu())*(1-y.cpu())))) *(1-(np.exp((-x.cpu())*(1-x.cpu()))))\n",
    "        return result,m\n",
    "\n",
    "\n",
    "    # Calculate w(x, y) over the grid\n",
    "    W,m = w(X, Y)\n",
    "    # print(W.shape)\n",
    "    # # Calculate u(x, y, t=0)\n",
    "    # temp = W\n",
    "    temp = 2 * W / torch.max(torch.abs(W)).cpu()\n",
    "    temp[0] = (temp[0] + c[0])*m[0]\n",
    "    temp[1] = (temp[1] + c[1])*m[1]\n",
    "    u0 = torch.zeros((2, J))\n",
    "    u0[0,:]=temp[0,:,:].flatten()\n",
    "    u0[1,:]=temp[1,:,:].flatten()\n",
    "    return u0"
   ]
  },
  {
   "cell_type": "code",
   "execution_count": 13,
   "metadata": {},
   "outputs": [],
   "source": [
    "# u_init=torch.zeros((2,particles_per_unit**2,n_samples))\n",
    "# for i in range(n_samples):\n",
    "#     print(f\"Starting the {i}th iteration\")\n",
    "#     u_init[:,:,i]=create_sample(i)"
   ]
  },
  {
   "cell_type": "code",
   "execution_count": 14,
   "metadata": {},
   "outputs": [],
   "source": [
    "with open('u_init.pkl', 'rb') as file:\n",
    "    u_init = torch.tensor(pickle.load(file), dtype=torch.float32).permute(1, 0, 2)"
   ]
  },
  {
   "cell_type": "code",
   "execution_count": 15,
   "metadata": {},
   "outputs": [
    {
     "data": {
      "text/plain": [
       "torch.Size([2, 2500, 5001])"
      ]
     },
     "execution_count": 15,
     "metadata": {},
     "output_type": "execute_result"
    }
   ],
   "source": [
    "u_init.shape"
   ]
  },
  {
   "cell_type": "code",
   "execution_count": 16,
   "metadata": {},
   "outputs": [
    {
     "name": "stdout",
     "output_type": "stream",
     "text": [
      "Covariance matrix for x component:\n",
      " torch.Size([2500, 2500])\n",
      "Covariance matrix for y component:\n",
      " torch.Size([2500, 2500])\n",
      "Combined covariance matrix:\n",
      " torch.Size([2, 2500, 2500])\n"
     ]
    }
   ],
   "source": [
    "# u_stacked = u_init.transpose(1, 2).reshape(2, 2000, 2500)\n",
    "u_stacked = u_init\n",
    "\n",
    "# Compute the covariance matrix for each component (x and y)\n",
    "cov_matrices = []\n",
    "for component in range(2):\n",
    "    u_component = u_stacked[component]  # Select either x or y component\n",
    "    # Subtract the mean along the sample dimension (axis=1)\n",
    "    u_mean = torch.mean(u_component, dim=(1), keepdim=True)\n",
    "    u_centered = u_component - u_mean\n",
    "    # Compute covariance matrix\n",
    "    covariance_matrix = torch.matmul(u_centered, u_centered.transpose(1, 0)) / (u_component.shape[1] - 1)\n",
    "    cov_matrices.append(covariance_matrix)\n",
    "\n",
    "# cov_matrices now contains the covariance matrix for each component\n",
    "cov_x = cov_matrices[0]  # Covariance matrix for x component\n",
    "cov_y = cov_matrices[1]  # Covariance matrix for y component\n",
    "\n",
    "# If you want the combined covariance matrix, you can stack them together\n",
    "cov_combined = torch.stack(cov_matrices, dim=0)\n",
    "\n",
    "print(\"Covariance matrix for x component:\\n\", cov_x.shape)\n",
    "print(\"Covariance matrix for y component:\\n\", cov_y.shape)\n",
    "print(\"Combined covariance matrix:\\n\", cov_combined.shape)"
   ]
  },
  {
   "cell_type": "code",
   "execution_count": 17,
   "metadata": {},
   "outputs": [
    {
     "data": {
      "text/plain": [
       "tensor([ 9.8856e+01,  4.0016e+00,  3.8163e+00,  ..., -1.0178e-06,\n",
       "        -1.1576e-06, -1.1421e-05])"
      ]
     },
     "execution_count": 17,
     "metadata": {},
     "output_type": "execute_result"
    }
   ],
   "source": [
    "# Compute the eigenvalues_x and eigenvectors_x of the covariance matrix\n",
    "eigenvalues_x, eigenvectors_x = eigh(cov_x.cpu())\n",
    "\n",
    "# Sort the eigenvalues_x and eigenvectors_x in descending order\n",
    "idx = eigenvalues_x.argsort()[::-1]\n",
    "eigenvalues_x = torch.tensor(eigenvalues_x[idx])\n",
    "eigenvectors_x = torch.tensor(eigenvectors_x[:, idx])\n",
    "eigenvalues_x"
   ]
  },
  {
   "cell_type": "code",
   "execution_count": 18,
   "metadata": {},
   "outputs": [
    {
     "data": {
      "text/plain": [
       "tensor([ 9.2256e+01,  3.9918e+00,  3.8531e+00,  ..., -7.1226e-07,\n",
       "        -4.5170e-06, -1.3182e-05])"
      ]
     },
     "execution_count": 18,
     "metadata": {},
     "output_type": "execute_result"
    }
   ],
   "source": [
    "# Compute the eigenvalues_y and eigenvectors_y of the covariance matrix\n",
    "eigenvalues_y, eigenvectors_y = eigh(cov_y.cpu())\n",
    "\n",
    "# Sort the eigenvalues_y and eigenvectors_y in descending order\n",
    "idx = eigenvalues_y.argsort()[::-1]\n",
    "eigenvalues_y = torch.tensor(eigenvalues_y[idx])\n",
    "eigenvectors_y = torch.tensor(eigenvectors_y[:, idx])\n",
    "eigenvalues_y"
   ]
  },
  {
   "cell_type": "code",
   "execution_count": 19,
   "metadata": {},
   "outputs": [
    {
     "data": {
      "text/plain": [
       "tensor([1.1248e-08, 1.1246e-08, 1.1236e-08, 1.1209e-08, 1.1181e-08, 1.1160e-08,\n",
       "        1.1128e-08, 1.1116e-08, 1.1115e-08, 1.1105e-08])"
      ]
     },
     "execution_count": 19,
     "metadata": {},
     "output_type": "execute_result"
    }
   ],
   "source": [
    "eigenvalues_x[356:          366]"
   ]
  },
  {
   "cell_type": "code",
   "execution_count": 20,
   "metadata": {},
   "outputs": [],
   "source": [
    "u0_mean=u_init.mean(dim=(2))\n",
    "u0_std=u_init.std(dim=(2))"
   ]
  },
  {
   "cell_type": "code",
   "execution_count": 21,
   "metadata": {},
   "outputs": [
    {
     "data": {
      "image/png": "[encoded data removed]",
      "text/plain": [
       "<Figure size 640x480 with 2 Axes>"
      ]
     },
     "metadata": {},
     "output_type": "display_data"
    }
   ],
   "source": [
    "u_plot=u0_mean[1,:].cpu().reshape((int(np.sqrt(J)), int(np.sqrt(J))))\n",
    "heatmap=plt.imshow(u_plot, aspect='auto', cmap='jet')\n",
    "plt.xlabel('Spatial dimension (y)')\n",
    "plt.ylabel('Spatial dimension (x)')\n",
    "plt.title(f'Inital Conditions for q={q}', fontweight='bold')\n",
    "cbar = plt.colorbar(heatmap)\n",
    "# Add colorbar with legend\n",
    "# cbar = plt.colorbar(heatmap)\n",
    "cbar.set_label('Values')\n",
    "plt.show()"
   ]
  },
  {
   "cell_type": "code",
   "execution_count": 22,
   "metadata": {},
   "outputs": [
    {
     "data": {
      "image/png": "[encoded data removed]",
      "text/plain": [
       "<Figure size 640x480 with 2 Axes>"
      ]
     },
     "metadata": {},
     "output_type": "display_data"
    }
   ],
   "source": [
    "u_plot=u0_std[1,:].cpu().reshape((int(np.sqrt(J)), int(np.sqrt(J))))\n",
    "heatmap=plt.imshow(u_plot, aspect='auto', cmap='jet')\n",
    "plt.xlabel('Spatial dimension (y)')\n",
    "plt.ylabel('Spatial dimension (x)')\n",
    "plt.title(f'Inital Conditions for q={q} by MCS', fontweight='bold')\n",
    "cbar = plt.colorbar(heatmap)\n",
    "# Add colorbar with legend\n",
    "# cbar = plt.colorbar(heatmap)\n",
    "cbar.set_label('Values')\n",
    "plt.show()"
   ]
  },
  {
   "cell_type": "code",
   "execution_count": 23,
   "metadata": {},
   "outputs": [],
   "source": [
    "t=0\n",
    "# q=100\n",
    "for i in range(q):\n",
    "    t+=eigenvalues_y[i]*(eigenvectors_y[:,i]**2)\n",
    "t=torch.sqrt(t)"
   ]
  },
  {
   "cell_type": "code",
   "execution_count": 24,
   "metadata": {},
   "outputs": [
    {
     "data": {
      "image/png": "[encoded data removed]",
      "text/plain": [
       "<Figure size 640x480 with 2 Axes>"
      ]
     },
     "metadata": {},
     "output_type": "display_data"
    }
   ],
   "source": [
    "u_plot=t.cpu().reshape((int(np.sqrt(J)), int(np.sqrt(J))))\n",
    "heatmap=plt.imshow(u_plot, aspect='auto', cmap='jet')\n",
    "plt.xlabel('Spatial dimension (y)')\n",
    "plt.ylabel('Spatial dimension (x)')\n",
    "plt.title(f'Inital Conditions for q={q}', fontweight='bold')\n",
    "cbar = plt.colorbar(heatmap)\n",
    "# Add colorbar with legend\n",
    "# cbar = plt.colorbar(heatmap)\n",
    "cbar.set_label('Values')\n",
    "plt.show()"
   ]
  },
  {
   "cell_type": "code",
   "execution_count": 25,
   "metadata": {},
   "outputs": [],
   "source": [
    "def cal_u(wx,wy):\n",
    "    val=u0_mean\n",
    "    \n",
    "    for i in range(q):\n",
    "        val[0]+=torch.sqrt(eigenvalues_x[i])*(eigenvectors_x[:,i])*wx[i]\n",
    "        val[1]+=torch.sqrt(eigenvalues_y[i])*(eigenvectors_y[:,i])*wy[i]\n",
    "    \n",
    "    return val"
   ]
  },
  {
   "cell_type": "code",
   "execution_count": 26,
   "metadata": {},
   "outputs": [
    {
     "name": "stdout",
     "output_type": "stream",
     "text": [
      "1\n",
      "2\n",
      "3\n",
      "4\n",
      "5\n",
      "6\n",
      "7\n",
      "8\n",
      "9\n",
      "10\n",
      "11\n",
      "12\n",
      "13\n",
      "14\n",
      "15\n",
      "16\n",
      "17\n",
      "18\n",
      "19\n",
      "20\n",
      "21\n"
     ]
    },
    {
     "name": "stderr",
     "output_type": "stream",
     "text": [
      "C:\\Users\\CMMRG\\AppData\\Local\\Temp\\ipykernel_1800\\293942335.py:3: DeprecationWarning: `np.math` is a deprecated alias for the standard library `math` module (Deprecated Numpy 1.25). Replace usages of `np.math` with `math`\n",
      "  return lambda x: hermite(n)(x/np.sqrt(2.0)) / np.sqrt((2.0)**n * np.math.factorial(n))\n"
     ]
    },
    {
     "name": "stdout",
     "output_type": "stream",
     "text": [
      "22\n",
      "23\n",
      "24\n",
      "25\n",
      "26\n",
      "27\n",
      "28\n",
      "29\n",
      "30\n",
      "31\n",
      "32\n",
      "33\n",
      "34\n",
      "35\n",
      "36\n",
      "37\n",
      "38\n",
      "39\n",
      "40\n",
      "41\n",
      "42\n",
      "43\n",
      "44\n",
      "45\n",
      "46\n",
      "47\n",
      "48\n",
      "49\n",
      "50\n",
      "51\n",
      "52\n",
      "53\n",
      "54\n",
      "55\n",
      "56\n",
      "57\n",
      "58\n",
      "59\n",
      "60\n",
      "61\n",
      "62\n",
      "63\n",
      "64\n",
      "65\n",
      "66\n",
      "67\n",
      "68\n",
      "69\n",
      "70\n",
      "71\n",
      "72\n",
      "73\n",
      "74\n",
      "75\n",
      "76\n",
      "77\n",
      "78\n",
      "79\n",
      "80\n",
      "81\n",
      "82\n",
      "83\n",
      "84\n",
      "85\n",
      "86\n",
      "87\n",
      "88\n",
      "89\n",
      "90\n",
      "91\n",
      "92\n",
      "93\n",
      "94\n",
      "95\n",
      "96\n",
      "97\n",
      "98\n",
      "99\n",
      "100\n",
      "101\n",
      "102\n",
      "103\n",
      "104\n",
      "105\n",
      "106\n",
      "107\n",
      "108\n",
      "109\n",
      "110\n",
      "111\n",
      "112\n",
      "113\n",
      "114\n",
      "115\n",
      "116\n",
      "117\n",
      "118\n",
      "119\n",
      "120\n",
      "121\n",
      "122\n",
      "123\n",
      "124\n",
      "125\n",
      "126\n",
      "127\n",
      "128\n",
      "129\n",
      "130\n",
      "131\n",
      "132\n",
      "133\n",
      "134\n",
      "135\n",
      "136\n",
      "137\n",
      "138\n",
      "139\n",
      "140\n",
      "141\n",
      "142\n",
      "143\n",
      "144\n",
      "145\n",
      "146\n",
      "147\n",
      "148\n",
      "149\n",
      "150\n",
      "151\n",
      "152\n",
      "153\n",
      "154\n",
      "155\n",
      "156\n",
      "157\n",
      "158\n",
      "159\n",
      "160\n",
      "161\n",
      "162\n",
      "163\n",
      "164\n",
      "165\n",
      "166\n",
      "167\n",
      "168\n",
      "169\n",
      "170\n",
      "171\n",
      "172\n",
      "173\n",
      "174\n",
      "175\n",
      "176\n",
      "177\n",
      "178\n",
      "179\n",
      "180\n",
      "181\n",
      "182\n",
      "183\n",
      "184\n",
      "185\n",
      "186\n",
      "187\n",
      "188\n",
      "189\n",
      "190\n",
      "191\n",
      "192\n",
      "193\n",
      "194\n",
      "195\n",
      "196\n",
      "197\n",
      "198\n",
      "199\n",
      "200\n",
      "201\n",
      "202\n",
      "203\n",
      "204\n",
      "205\n",
      "206\n",
      "207\n",
      "208\n",
      "209\n",
      "210\n",
      "211\n",
      "212\n",
      "213\n",
      "214\n",
      "215\n",
      "216\n",
      "217\n",
      "218\n",
      "219\n",
      "220\n",
      "221\n",
      "222\n",
      "223\n",
      "224\n",
      "225\n",
      "226\n",
      "227\n",
      "228\n",
      "229\n",
      "230\n",
      "231\n",
      "232\n",
      "233\n",
      "234\n",
      "235\n",
      "236\n",
      "237\n",
      "238\n",
      "239\n",
      "240\n",
      "241\n",
      "242\n",
      "243\n",
      "244\n",
      "245\n",
      "246\n",
      "247\n",
      "248\n",
      "249\n",
      "250\n",
      "251\n",
      "252\n",
      "253\n",
      "254\n",
      "255\n",
      "256\n",
      "257\n",
      "258\n",
      "259\n",
      "260\n",
      "261\n",
      "262\n",
      "263\n",
      "264\n",
      "265\n",
      "266\n",
      "267\n",
      "268\n",
      "269\n",
      "270\n",
      "271\n",
      "272\n",
      "273\n",
      "274\n",
      "275\n",
      "276\n",
      "277\n",
      "278\n",
      "279\n",
      "280\n",
      "281\n",
      "282\n",
      "283\n",
      "284\n",
      "285\n",
      "286\n",
      "287\n",
      "288\n",
      "289\n",
      "290\n",
      "291\n",
      "292\n",
      "293\n",
      "294\n",
      "295\n",
      "296\n",
      "297\n",
      "298\n",
      "299\n",
      "300\n",
      "301\n",
      "302\n",
      "303\n",
      "304\n",
      "305\n",
      "306\n",
      "307\n",
      "308\n",
      "309\n",
      "310\n",
      "311\n",
      "312\n",
      "313\n",
      "314\n",
      "315\n",
      "316\n",
      "317\n",
      "318\n",
      "319\n",
      "320\n",
      "321\n",
      "322\n",
      "323\n",
      "324\n",
      "325\n",
      "326\n",
      "327\n",
      "328\n",
      "329\n",
      "330\n",
      "331\n",
      "332\n",
      "333\n",
      "334\n",
      "335\n",
      "336\n",
      "337\n",
      "338\n",
      "339\n",
      "340\n",
      "341\n",
      "342\n",
      "343\n",
      "344\n",
      "345\n",
      "346\n",
      "347\n",
      "348\n",
      "349\n",
      "350\n",
      "351\n",
      "352\n",
      "353\n",
      "354\n",
      "355\n",
      "356\n",
      "357\n",
      "358\n",
      "359\n",
      "360\n",
      "361\n",
      "362\n",
      "363\n",
      "364\n",
      "365\n",
      "366\n",
      "367\n",
      "368\n",
      "369\n",
      "370\n",
      "371\n",
      "372\n",
      "373\n",
      "374\n",
      "375\n",
      "376\n",
      "377\n",
      "378\n",
      "379\n",
      "380\n",
      "381\n",
      "382\n",
      "383\n",
      "384\n",
      "385\n",
      "386\n",
      "387\n",
      "388\n",
      "389\n",
      "390\n",
      "391\n",
      "392\n",
      "393\n",
      "394\n",
      "395\n",
      "396\n",
      "397\n",
      "398\n",
      "399\n",
      "400\n",
      "401\n",
      "402\n",
      "403\n",
      "404\n",
      "405\n",
      "406\n",
      "407\n",
      "408\n",
      "409\n",
      "410\n",
      "411\n",
      "412\n",
      "413\n",
      "414\n",
      "415\n",
      "416\n",
      "417\n",
      "418\n",
      "419\n",
      "420\n",
      "421\n",
      "422\n",
      "423\n",
      "424\n",
      "425\n",
      "426\n",
      "427\n",
      "428\n",
      "429\n",
      "430\n",
      "431\n",
      "432\n",
      "433\n",
      "434\n",
      "435\n",
      "436\n",
      "437\n",
      "438\n",
      "439\n",
      "440\n",
      "441\n",
      "442\n",
      "443\n",
      "444\n",
      "445\n",
      "446\n",
      "447\n",
      "448\n",
      "449\n",
      "450\n",
      "451\n",
      "452\n",
      "453\n",
      "454\n",
      "455\n",
      "456\n",
      "457\n",
      "458\n",
      "459\n",
      "460\n",
      "461\n",
      "462\n",
      "463\n",
      "464\n",
      "465\n",
      "466\n",
      "467\n",
      "468\n",
      "469\n",
      "470\n",
      "471\n",
      "472\n",
      "473\n",
      "474\n",
      "475\n",
      "476\n",
      "477\n",
      "478\n",
      "479\n",
      "480\n",
      "481\n",
      "482\n",
      "483\n",
      "484\n",
      "485\n",
      "486\n",
      "487\n",
      "488\n",
      "489\n",
      "490\n",
      "491\n",
      "492\n",
      "493\n",
      "494\n",
      "495\n"
     ]
    }
   ],
   "source": [
    "values=torch.zeros(size=(2,P,J))\n",
    "values[:,0,:]=u0_mean\n",
    "for i in range(1,P):\n",
    "    print(i)\n",
    "    val=torch.zeros_like(u0_mean)\n",
    "    for j in range(q):\n",
    "        k = index[i][j]\n",
    "        if (k==1 and np.sum(index[i])==1) or k==2:\n",
    "            temp,_=quad(lambda x: orthonormal_prob_hermite(k)(x) * x * np.exp(-(x**2/2))/np.sqrt(2*np.pi), -np.inf, np.inf)\n",
    "            if(abs(temp)<1e-5):\n",
    "                temp=0\n",
    "            # print(f\"{k} for nananaaaa naaa{temp}\")\n",
    "            val[0]+=torch.sqrt(eigenvalues_x[j])*eigenvectors_x[:,j]*temp\n",
    "            val[1]+=torch.sqrt(eigenvalues_y[j])*eigenvectors_y[:,j]*temp\n",
    "            break\n",
    "    values[:,i,:]=val\n"
   ]
  },
  {
   "cell_type": "code",
   "execution_count": 27,
   "metadata": {},
   "outputs": [
    {
     "name": "stderr",
     "output_type": "stream",
     "text": [
      "C:\\Users\\CMMRG\\AppData\\Local\\Temp\\ipykernel_1800\\410624087.py:2: UserWarning: To copy construct from a tensor, it is recommended to use sourceTensor.clone().detach() or sourceTensor.clone().detach().requires_grad_(True), rather than torch.tensor(sourceTensor).\n",
      "  ut[:,:,:,0]=torch.tensor(values)\n"
     ]
    },
    {
     "data": {
      "text/plain": [
       "tensor([[[0., 0., 0.,  ..., 0., 0., 0.],\n",
       "         [0., 0., 0.,  ..., 0., 0., 0.],\n",
       "         [0., 0., 0.,  ..., 0., 0., 0.],\n",
       "         ...,\n",
       "         [0., 0., 0.,  ..., 0., 0., 0.],\n",
       "         [0., 0., 0.,  ..., 0., 0., 0.],\n",
       "         [0., 0., 0.,  ..., 0., 0., 0.]],\n",
       "\n",
       "        [[0., 0., 0.,  ..., 0., 0., 0.],\n",
       "         [0., 0., 0.,  ..., 0., 0., 0.],\n",
       "         [0., 0., 0.,  ..., 0., 0., 0.],\n",
       "         ...,\n",
       "         [0., 0., 0.,  ..., 0., 0., 0.],\n",
       "         [0., 0., 0.,  ..., 0., 0., 0.],\n",
       "         [0., 0., 0.,  ..., 0., 0., 0.]]])"
      ]
     },
     "execution_count": 27,
     "metadata": {},
     "output_type": "execute_result"
    }
   ],
   "source": [
    "ut = torch.zeros((2, P, J, N+1))\n",
    "ut[:,:,:,0]=torch.tensor(values)\n",
    "values"
   ]
  },
  {
   "cell_type": "code",
   "execution_count": 28,
   "metadata": {},
   "outputs": [
    {
     "data": {
      "text/plain": [
       "tensor(2.2617)"
      ]
     },
     "execution_count": 28,
     "metadata": {},
     "output_type": "execute_result"
    }
   ],
   "source": [
    "torch.max(torch.abs(u_init))"
   ]
  },
  {
   "cell_type": "code",
   "execution_count": 29,
   "metadata": {},
   "outputs": [],
   "source": [
    "del u_init"
   ]
  },
  {
   "cell_type": "code",
   "execution_count": 30,
   "metadata": {},
   "outputs": [
    {
     "name": "stderr",
     "output_type": "stream",
     "text": [
      "C:\\Users\\CMMRG\\AppData\\Local\\Temp\\ipykernel_1800\\293942335.py:3: DeprecationWarning: `np.math` is a deprecated alias for the standard library `math` module (Deprecated Numpy 1.25). Replace usages of `np.math` with `math`\n",
      "  return lambda x: hermite(n)(x/np.sqrt(2.0)) / np.sqrt((2.0)**n * np.math.factorial(n))\n"
     ]
    },
    {
     "data": {
      "text/plain": [
       "tensor([[1., 0., 0.],\n",
       "        [0., 1., 0.],\n",
       "        [0., 0., 1.]])"
      ]
     },
     "execution_count": 30,
     "metadata": {},
     "output_type": "execute_result"
    }
   ],
   "source": [
    "pre_b=torch.zeros((max_ord,max_ord),device='cpu')\n",
    "for i in range(max_ord):\n",
    "    for j in range(max_ord):\n",
    "        pre_b[i,j],_=quad(lambda x: orthonormal_prob_hermite(i)(x)*orthonormal_prob_hermite(j)(x)* np.exp(-(x**2/2))/np.sqrt(2*np.pi), -np.inf, np.inf)\n",
    "        if(abs(pre_b[i,j])<1e-10):\n",
    "            pre_b[i,j]=0\n",
    "pre_b"
   ]
  },
  {
   "cell_type": "code",
   "execution_count": 31,
   "metadata": {},
   "outputs": [
    {
     "name": "stderr",
     "output_type": "stream",
     "text": [
      "C:\\Users\\CMMRG\\AppData\\Local\\Temp\\ipykernel_1800\\293942335.py:3: DeprecationWarning: `np.math` is a deprecated alias for the standard library `math` module (Deprecated Numpy 1.25). Replace usages of `np.math` with `math`\n",
      "  return lambda x: hermite(n)(x/np.sqrt(2.0)) / np.sqrt((2.0)**n * np.math.factorial(n))\n"
     ]
    },
    {
     "data": {
      "text/plain": [
       "tensor([[[1.0000, 0.0000, 0.0000],\n",
       "         [0.0000, 1.0000, 0.0000],\n",
       "         [0.0000, 0.0000, 1.0000]],\n",
       "\n",
       "        [[0.0000, 1.0000, 0.0000],\n",
       "         [1.0000, 0.0000, 1.4142],\n",
       "         [0.0000, 1.4142, 0.0000]],\n",
       "\n",
       "        [[0.0000, 0.0000, 1.0000],\n",
       "         [0.0000, 1.4142, 0.0000],\n",
       "         [1.0000, 0.0000, 2.8284]]])"
      ]
     },
     "execution_count": 31,
     "metadata": {},
     "output_type": "execute_result"
    }
   ],
   "source": [
    "pre_c=torch.zeros((max_ord,max_ord,max_ord),device='cpu')\n",
    "for i in range(max_ord):\n",
    "    for j in range(max_ord):\n",
    "        for k in range(max_ord):\n",
    "            pre_c[i,j,k],_=quad(lambda x: orthonormal_prob_hermite(i)(x)*orthonormal_prob_hermite(j)(x)* orthonormal_prob_hermite(k)(x) *np.exp(-(x**2/2))/np.sqrt(2*np.pi), -np.inf, np.inf)\n",
    "            if(abs(pre_c[i,j,k])<1e-10):\n",
    "                pre_c[i,j,k]=0\n",
    "pre_c"
   ]
  },
  {
   "cell_type": "code",
   "execution_count": 32,
   "metadata": {},
   "outputs": [],
   "source": [
    "a=torch.zeros((P),device='cpu')\n",
    "for i in range(P):\n",
    "    if(np.sum(index[i]) == 0):\n",
    "        a[i]=1"
   ]
  },
  {
   "cell_type": "code",
   "execution_count": 33,
   "metadata": {},
   "outputs": [],
   "source": [
    "def cal_b(i, pre_b, index):\n",
    "    print(f\"Starting {i}th iteration\")\n",
    "    b = torch.zeros(size=(P,),device='cpu')\n",
    "    for j in range(P):\n",
    "        b[j]=1\n",
    "        for k in range(q):\n",
    "            b[j]*=pre_b[index[i][k],index[j][k]]\n",
    "    return b"
   ]
  },
  {
   "cell_type": "code",
   "execution_count": 34,
   "metadata": {},
   "outputs": [],
   "source": [
    "index=torch.tensor(index,device='cpu')"
   ]
  },
  {
   "cell_type": "code",
   "execution_count": 35,
   "metadata": {},
   "outputs": [],
   "source": [
    "def cal_c(i, pre_c, index):\n",
    "    print(f\"Starting {i}th iteration\")\n",
    "    P, q = index.shape\n",
    "#     index=torch.tensor(index)\n",
    "    # Initialize the output tensor c with ones\n",
    "    c = torch.ones((P, P), dtype=pre_c.dtype, device=pre_c.device)\n",
    "    \n",
    "    # Iterate over the range Q and perform element-wise multiplication for all combinations\n",
    "    for l in range(q):\n",
    "        idx_i = index[i, l]\n",
    "        idx_j = index[:, l].unsqueeze(1).expand(P, P)\n",
    "        idx_k = index[:, l].unsqueeze(0).expand(P, P)\n",
    "        c *= pre_c[idx_i, idx_j, idx_k]\n",
    "    \n",
    "    return c"
   ]
  },
  {
   "cell_type": "code",
   "execution_count": 36,
   "metadata": {},
   "outputs": [],
   "source": [
    "import time\n",
    "import multiprocessing\n",
    "from joblib import Parallel, delayed\n",
    "import sys\n"
   ]
  },
  {
   "cell_type": "code",
   "execution_count": 37,
   "metadata": {},
   "outputs": [
    {
     "data": {
      "text/plain": [
       "16"
      ]
     },
     "execution_count": 37,
     "metadata": {},
     "output_type": "execute_result"
    }
   ],
   "source": [
    "num_cores=multiprocessing.cpu_count()\n",
    "num_cores"
   ]
  },
  {
   "cell_type": "code",
   "execution_count": 38,
   "metadata": {},
   "outputs": [],
   "source": [
    "\n",
    "start = time.time()\n",
    "\n",
    "b = Parallel(n_jobs=num_cores)(delayed(cal_b)(i, pre_b, index) for i in range(P))\n",
    "c = Parallel(n_jobs=num_cores)(delayed(cal_c)(i, pre_c, index) for i in range(P))\n",
    "\n",
    "end = time.time()"
   ]
  },
  {
   "cell_type": "code",
   "execution_count": 39,
   "metadata": {},
   "outputs": [
    {
     "name": "stdout",
     "output_type": "stream",
     "text": [
      "Total time taken 0.529431406656901 mins\n"
     ]
    }
   ],
   "source": [
    "print(f\"Total time taken {(end-start)/60} mins\")"
   ]
  },
  {
   "cell_type": "code",
   "execution_count": 40,
   "metadata": {},
   "outputs": [
    {
     "data": {
      "text/plain": [
       "torch.Size([496, 496])"
      ]
     },
     "execution_count": 40,
     "metadata": {},
     "output_type": "execute_result"
    }
   ],
   "source": [
    "b=torch.stack(b,dim=0)\n",
    "b.shape"
   ]
  },
  {
   "cell_type": "code",
   "execution_count": 41,
   "metadata": {},
   "outputs": [
    {
     "data": {
      "text/plain": [
       "torch.Size([496, 496, 496])"
      ]
     },
     "execution_count": 41,
     "metadata": {},
     "output_type": "execute_result"
    }
   ],
   "source": [
    "c=torch.stack(c,dim=0)\n",
    "c.shape"
   ]
  },
  {
   "cell_type": "code",
   "execution_count": 42,
   "metadata": {},
   "outputs": [],
   "source": [
    "ab = a.view(P, 1, 1) * b"
   ]
  },
  {
   "cell_type": "code",
   "execution_count": 43,
   "metadata": {},
   "outputs": [
    {
     "data": {
      "text/plain": [
       "10"
      ]
     },
     "execution_count": 43,
     "metadata": {},
     "output_type": "execute_result"
    }
   ],
   "source": [
    "def compute_nlist(coords,side_length=float(con)):\n",
    "    # Compute pairwise distance\n",
    "    # Shifts\n",
    "    eps = 0.1*h\n",
    "    shifts = [\n",
    "        (0, 0)        # Original coordinates\n",
    "        # (side_length, 0),  # Shift right\n",
    "        # (-side_length, 0), # Shift left\n",
    "        # (0, side_length),  # Shift up\n",
    "        # (0, -side_length), # Shift down \n",
    "        # (side_length + eps, -side_length - eps),  # Shift right - down\n",
    "        # (-side_length - eps, side_length + eps), # Shift left - up\n",
    "        # (side_length + eps, side_length + eps),  # Shift right - up\n",
    "        # (-side_length - eps, -side_length - eps)  # Shift left - down \n",
    "    ]\n",
    "    n_particles=coords.size()[0]\n",
    "    # Expand the coordinates\n",
    "    \n",
    "    all_coords = []\n",
    "    for shift in shifts:\n",
    "        shifted_coords = coords + torch.tensor(shift,dtype=coords.dtype)\n",
    "        all_coords.append(shifted_coords)\n",
    "\n",
    "    \n",
    "    all_coords = torch.cat(all_coords, dim=0)\n",
    "    \n",
    "    # Compute pairwise distances\n",
    "    dX = all_coords[:, 0][:, None] - coords[:, 0][None, :]\n",
    "    dY = all_coords[:, 1][:, None] - coords[:, 1][None, :]\n",
    "    # print(dX.shape)\n",
    "    # half_domain = side_length / 2\n",
    "    # dX = (dX + half_domain) % side_length - half_domain\n",
    "    # dY = (dY + half_domain) % side_length - half_domain\n",
    "    \n",
    "    distances = torch.sqrt(dX**2 + dY**2)\n",
    "\n",
    "    # Create the neighbor list using a mask for distances < c and excluding self-distances\n",
    "    neighbor_mask = (distances <= c_) & (distances > 0)\n",
    "    # print(neighbor_mask.shape)\n",
    "    # Compute the neighbor list\n",
    "    n_list = [[torch.nonzero(neighbor_mask[i]).squeeze() % n_particles,(dX[i][neighbor_mask[i]]),(dY[i][neighbor_mask[i]])] for i in range(J)]\n",
    "    \n",
    "    return n_list\n",
    "\n",
    "n_list=compute_nlist(coords[0])\n",
    "len(n_list[0][1])"
   ]
  },
  {
   "cell_type": "code",
   "execution_count": 44,
   "metadata": {},
   "outputs": [
    {
     "data": {
      "text/plain": [
       "tensor([  1,   2,   3,  50,  51,  52, 100, 101, 102, 150])"
      ]
     },
     "execution_count": 44,
     "metadata": {},
     "output_type": "execute_result"
    }
   ],
   "source": [
    "n_list[0][0]"
   ]
  },
  {
   "cell_type": "code",
   "execution_count": 45,
   "metadata": {},
   "outputs": [],
   "source": [
    "def d_CubicSpline(x, y, h, domain_size=1):\n",
    "    alpha = 15/(7*np.pi*h**2)\n",
    "\n",
    "\n",
    "    r = torch.sqrt(x**2 + y**2)\n",
    "    q = r / h\n",
    "    mask1 = q <= 1\n",
    "    mask2 = (q > 1) & (q <= 2)\n",
    "    dz_dx = torch.zeros_like(q)\n",
    "    dz_dy = torch.zeros_like(q)\n",
    "\n",
    "    dz_dx[mask1] = alpha * (-2*q[mask1] + 3/2*q[mask1]**2) * x[mask1] / (r[mask1] * h)\n",
    "    dz_dy[mask1] = alpha * (-2*q[mask1] + 3/2*q[mask1]**2) * y[mask1] / (r[mask1] * h)\n",
    "    dz_dx[mask2] = alpha * (-1/2*(2-q[mask2])**2) * x[mask2] / (r[mask2] * h)\n",
    "    dz_dy[mask2] = alpha * (-1/2*(2-q[mask2])**2) * y[mask2] / (r[mask2] * h)\n",
    "    \n",
    "    return dz_dx, dz_dy\n"
   ]
  },
  {
   "cell_type": "code",
   "execution_count": 46,
   "metadata": {},
   "outputs": [],
   "source": [
    "def compute_A(x, y, h, m_j, rho_j, epsilon=1e-8):\n",
    "    alpha = 15 / (7 * np.pi * h ** 2)\n",
    "    r = torch.sqrt(x**2 + y**2)\n",
    "    q = r / h\n",
    "    mask1 = q <= 1\n",
    "    mask2 = (q > 1) & (q <= 2)\n",
    "    \n",
    "    W_xx = torch.zeros_like(q)\n",
    "    W_yy = torch.zeros_like(q)\n",
    "    \n",
    "    W_xx[mask1] = alpha * (-2 * q[mask1] + 3/2 * q[mask1]**2) * (x[mask1]) / (r[mask1] * h)\n",
    "    W_yy[mask1] = alpha * (-2 * q[mask1] + 3/2 * q[mask1]**2) * (y[mask1]) / (r[mask1] * h)\n",
    "    W_xx[mask2] = alpha * (-1/2 * (2 - q[mask2])**2) * (x[mask2]) / (r[mask2] * h)\n",
    "    W_yy[mask2] = alpha * (-1/2 * (2 - q[mask2])**2) * (y[mask2]) / (r[mask2] * h)\n",
    "    \n",
    "    A_xx = -torch.sum(m_j * x / rho_j * W_xx)\n",
    "    A_xy = -torch.sum(m_j * x / rho_j * W_yy)\n",
    "    A_yx = -torch.sum(m_j * y / rho_j * W_xx)\n",
    "    A_yy = -torch.sum(m_j * y / rho_j * W_yy)\n",
    "    \n",
    "    A_inv = torch.linalg.inv(torch.tensor([[A_xx, A_xy], [A_yx, A_yy]]))\n",
    "    return A_inv\n",
    "\n",
    "def d_CubicSpline_corrected(x, y, h, m_j, rho_j):\n",
    "    # Compute the gradient of the kernel\n",
    "    dz_dx, dz_dy = d_CubicSpline(x, y, h)\n",
    "    \n",
    "    # Compute the correction matrix A_inv\n",
    "    B = compute_A(x, y, h, m_j, rho_j)\n",
    "    \n",
    "    # Apply the gradient correction\n",
    "    dz_dx_corrected = B[0, 0] * dz_dx + B[0, 1] * dz_dy\n",
    "    dz_dy_corrected = B[1, 0] * dz_dx + B[1, 1] * dz_dy\n",
    "    \n",
    "    return dz_dx_corrected, dz_dy_corrected"
   ]
  },
  {
   "cell_type": "code",
   "execution_count": 47,
   "metadata": {},
   "outputs": [],
   "source": [
    "def SPH(c,h,comp,n_list=n_list):\n",
    "    cd=torch.zeros(size=(2,P,c.shape[1]))\n",
    "    for i,data in enumerate(n_list):\n",
    "        neighbors = data[0]\n",
    "        c_i = c[:,i][:,np.newaxis]  # Broadcasting to create the necessary shape\n",
    "        c_i = torch.tensor(np.repeat(c_i.cpu(), len(neighbors), axis=1),device=cd.device)\n",
    "        c_j = c[:,neighbors]\n",
    "        rho_neighbors = rho[neighbors]\n",
    "        mass_neighbors = mass[neighbors]\n",
    "        \n",
    "        c_diff = c_i - c_j\n",
    "        # dx,dy=d_CubicSpline_corrected(data[1],data[2], h, mass_neighbors, rho_neighbors)\n",
    "        dx,dy=d_CubicSpline(data[1],data[2],h)\n",
    "        cd[0,:,i] = torch.einsum(\"N,PN->P\", mass_neighbors / rho_neighbors * dx, c_diff)\n",
    "        cd[1,:,i] = torch.einsum(\"N,PN->P\", mass_neighbors / rho_neighbors * dy, c_diff)\n",
    "    return cd"
   ]
  },
  {
   "cell_type": "code",
   "execution_count": 48,
   "metadata": {},
   "outputs": [],
   "source": [
    "def SPH_d(c,h,n_list=n_list):\n",
    "    cd=torch.zeros_like(c)\n",
    "    for i,data in enumerate(n_list):\n",
    "        neighbors = data[0]\n",
    "        c_i = c[:,:,i][:,:,np.newaxis]  # Broadcasting to create the necessary shape\n",
    "        c_i = torch.tensor(np.repeat(c_i.cpu(), len(neighbors), axis=2),device=cd.device)\n",
    "        c_j = c[:,:,neighbors]\n",
    "        rho_neighbors = rho[neighbors]\n",
    "        mass_neighbors = mass[neighbors]\n",
    "        c_diff = (c_i - c_j)\n",
    "        # dx,dy=d_CubicSpline_corrected(data[1],data[2], h, mass_neighbors, rho_neighbors)\n",
    "        dx,dy=d_CubicSpline(data[1],data[2],h)\n",
    "        cd[0,:,i] = torch.einsum(\"N,PN->P\",mass_neighbors / rho_neighbors * dx, c_diff[0,:,:])\n",
    "        cd[1,:,i] = torch.einsum(\"N,PN->P\",mass_neighbors / rho_neighbors * dy, c_diff[1,:,:])\n",
    "    return cd"
   ]
  },
  {
   "cell_type": "code",
   "execution_count": 49,
   "metadata": {},
   "outputs": [],
   "source": [
    "def xSPH(c,h,n_list=n_list):\n",
    "    cd=torch.zeros_like(c)\n",
    "    for i,data in enumerate(n_list):\n",
    "        neighbors = data[0]\n",
    "        c_i = c[:,:,i][:,:,np.newaxis]  # Broadcasting to create the necessary shape\n",
    "        c_i = torch.tensor(np.repeat(c_i.cpu(), len(neighbors), axis=2),device=cd.device)\n",
    "        c_j = c[:,:,neighbors]\n",
    "        rho_neighbors = rho[neighbors]\n",
    "        mass_neighbors = mass[neighbors]\n",
    "        c_diff = (c_j - c_i)\n",
    "        # dx,dy=d_CubicSpline_corrected(data[1],data[2], h,mass_neighbors,rho_neighbors)\n",
    "        dx,dy=d_CubicSpline(data[1],data[2],h)\n",
    "        # cd[0,:,i] = torch.sum(mass_neighbors / rho_neighbors * c_diff * dx)\n",
    "        cd[0,:,i] = 0.5*torch.einsum(\"N,PN->P\",mass_neighbors / rho_neighbors * dx, c_diff[0,:,:])\n",
    "        cd[1,:,i] = 0.5*torch.einsum(\"N,PN->P\",mass_neighbors / rho_neighbors * dy, c_diff[1,:,:])\n",
    "        # cd[0,0,i] += torch.sum(mass_neighbors / rho_neighbors * (pi_ij) * dx)\n",
    "        # cd[1,0,i] += torch.sum(mass_neighbors / rho_neighbors * (pi_ij) * dy)\n",
    "    return cd"
   ]
  },
  {
   "cell_type": "code",
   "execution_count": 50,
   "metadata": {},
   "outputs": [],
   "source": [
    "# Define the function to detect and correct outliers based on the median\n",
    "def median_outlier_correction(ut, neighborlist):\n",
    "    # Iterate over all particles\n",
    "    for j in range(ut.shape[2]):\n",
    "        neighbors = neighborlist[j][0]\n",
    "        if len(neighbors) > 0:  # Check if the particle has neighbors\n",
    "            # Compute the median velocity from the neighbors\n",
    "            median_velocity_x = torch.median(ut[0, :, neighbors], dim=1).values\n",
    "            median_velocity_y = torch.median(ut[1, :, neighbors], dim=1).values\n",
    "            # Update the velocity of the current particle to the median velocity of neighbors\n",
    "            ut[0, :, j] = median_velocity_x\n",
    "            ut[1, :, j] = median_velocity_y"
   ]
  },
  {
   "cell_type": "code",
   "execution_count": 51,
   "metadata": {},
   "outputs": [],
   "source": [
    "coordinates=torch.zeros((P,J,2,N+1))\n",
    "coordinates[:,:,:,0]=coords"
   ]
  },
  {
   "cell_type": "code",
   "execution_count": 52,
   "metadata": {},
   "outputs": [],
   "source": [
    "# coords[1,:51,0]"
   ]
  },
  {
   "cell_type": "code",
   "execution_count": 53,
   "metadata": {},
   "outputs": [],
   "source": [
    "x_mask = torch.logical_or(coords[0,:,0] == 0, coords[0,:,0] == 1)\n",
    "y_mask = torch.logical_or(coords[0,:,1] == 0, coords[0,:,1] == 1)"
   ]
  },
  {
   "cell_type": "code",
   "execution_count": 54,
   "metadata": {},
   "outputs": [
    {
     "data": {
      "text/plain": [
       "tensor([ True,  True,  True,  True,  True,  True,  True,  True,  True,  True,\n",
       "         True,  True,  True,  True,  True,  True,  True,  True,  True,  True,\n",
       "         True,  True,  True,  True,  True,  True,  True,  True,  True,  True,\n",
       "         True,  True,  True,  True,  True,  True,  True,  True,  True,  True,\n",
       "         True,  True,  True,  True,  True,  True,  True,  True,  True,  True,\n",
       "        False, False, False, False, False, False, False, False, False, False,\n",
       "        False, False, False, False, False, False, False, False, False, False,\n",
       "        False, False, False, False, False, False, False, False, False, False,\n",
       "        False, False, False, False, False, False, False, False, False, False,\n",
       "        False, False, False, False, False, False, False, False, False, False])"
      ]
     },
     "execution_count": 54,
     "metadata": {},
     "output_type": "execute_result"
    }
   ],
   "source": [
    "x_mask[:100]"
   ]
  },
  {
   "cell_type": "code",
   "execution_count": 55,
   "metadata": {},
   "outputs": [
    {
     "data": {
      "text/plain": [
       "torch.Size([2, 496, 2500, 101])"
      ]
     },
     "execution_count": 55,
     "metadata": {},
     "output_type": "execute_result"
    }
   ],
   "source": [
    "ut.shape"
   ]
  },
  {
   "cell_type": "code",
   "execution_count": 56,
   "metadata": {},
   "outputs": [
    {
     "name": "stderr",
     "output_type": "stream",
     "text": [
      "C:\\Users\\CMMRG\\AppData\\Local\\Temp\\ipykernel_1800\\4027079884.py:6: UserWarning: To copy construct from a tensor, it is recommended to use sourceTensor.clone().detach() or sourceTensor.clone().detach().requires_grad_(True), rather than torch.tensor(sourceTensor).\n",
      "  c_i = torch.tensor(np.repeat(c_i.cpu(), len(neighbors), axis=1),device=cd.device)\n"
     ]
    },
    {
     "name": "stdout",
     "output_type": "stream",
     "text": [
      "Completed the 1^th timestep\n",
      "Completed the 2^th timestep\n",
      "Completed the 3^th timestep\n",
      "Completed the 4^th timestep\n",
      "Completed the 5^th timestep\n",
      "Completed the 6^th timestep\n",
      "Completed the 7^th timestep\n",
      "Completed the 8^th timestep\n",
      "Completed the 9^th timestep\n",
      "Completed the 10^th timestep\n",
      "Completed the 11^th timestep\n",
      "Completed the 12^th timestep\n",
      "Completed the 13^th timestep\n",
      "Completed the 14^th timestep\n",
      "Completed the 15^th timestep\n",
      "Completed the 16^th timestep\n",
      "Completed the 17^th timestep\n",
      "Completed the 18^th timestep\n",
      "Completed the 19^th timestep\n",
      "Completed the 20^th timestep\n",
      "Completed the 21^th timestep\n",
      "Completed the 22^th timestep\n",
      "Completed the 23^th timestep\n",
      "Completed the 24^th timestep\n",
      "Completed the 25^th timestep\n",
      "Completed the 26^th timestep\n",
      "Completed the 27^th timestep\n",
      "Completed the 28^th timestep\n",
      "Completed the 29^th timestep\n",
      "Completed the 30^th timestep\n",
      "Completed the 31^th timestep\n",
      "Completed the 32^th timestep\n",
      "Completed the 33^th timestep\n",
      "Completed the 34^th timestep\n",
      "Completed the 35^th timestep\n",
      "Completed the 36^th timestep\n",
      "Completed the 37^th timestep\n",
      "Completed the 38^th timestep\n",
      "Completed the 39^th timestep\n",
      "Completed the 40^th timestep\n",
      "Completed the 41^th timestep\n",
      "Completed the 42^th timestep\n",
      "Completed the 43^th timestep\n",
      "Completed the 44^th timestep\n",
      "Completed the 45^th timestep\n",
      "Completed the 46^th timestep\n",
      "Completed the 47^th timestep\n",
      "Completed the 48^th timestep\n",
      "Completed the 49^th timestep\n",
      "Completed the 50^th timestep\n",
      "Completed the 51^th timestep\n",
      "Completed the 52^th timestep\n",
      "Completed the 53^th timestep\n",
      "Completed the 54^th timestep\n",
      "Completed the 55^th timestep\n",
      "Completed the 56^th timestep\n",
      "Completed the 57^th timestep\n",
      "Completed the 58^th timestep\n",
      "Completed the 59^th timestep\n",
      "Completed the 60^th timestep\n",
      "Completed the 61^th timestep\n",
      "Completed the 62^th timestep\n",
      "Completed the 63^th timestep\n",
      "Completed the 64^th timestep\n",
      "Completed the 65^th timestep\n",
      "Completed the 66^th timestep\n",
      "Completed the 67^th timestep\n",
      "Completed the 68^th timestep\n",
      "Completed the 69^th timestep\n",
      "Completed the 70^th timestep\n",
      "Completed the 71^th timestep\n",
      "Completed the 72^th timestep\n",
      "Completed the 73^th timestep\n",
      "Completed the 74^th timestep\n",
      "Completed the 75^th timestep\n",
      "Completed the 76^th timestep\n",
      "Completed the 77^th timestep\n",
      "Completed the 78^th timestep\n",
      "Completed the 79^th timestep\n",
      "Completed the 80^th timestep\n",
      "Completed the 81^th timestep\n",
      "Completed the 82^th timestep\n",
      "Completed the 83^th timestep\n",
      "Completed the 84^th timestep\n",
      "Completed the 85^th timestep\n",
      "Completed the 86^th timestep\n",
      "Completed the 87^th timestep\n",
      "Completed the 88^th timestep\n",
      "Completed the 89^th timestep\n",
      "Completed the 90^th timestep\n",
      "Completed the 91^th timestep\n",
      "Completed the 92^th timestep\n",
      "Completed the 93^th timestep\n",
      "Completed the 94^th timestep\n",
      "Completed the 95^th timestep\n",
      "Completed the 96^th timestep\n",
      "Completed the 97^th timestep\n",
      "Completed the 98^th timestep\n",
      "Completed the 99^th timestep\n",
      "Completed the 100^th timestep\n"
     ]
    }
   ],
   "source": [
    "for n in range(1, N+1):\n",
    "    # Predictor step\n",
    "    n_list = compute_nlist(coords[0])\n",
    "    u = ut[:, :, :, n - 1]\n",
    "    \n",
    "    # Derivatives for predictor\n",
    "    ux_d = SPH(u[0], h, 0)\n",
    "    uy_d = SPH(u[1], h, 1)\n",
    "    ux_dd = SPH_d(ux_d, h)\n",
    "    uy_dd = SPH_d(uy_d, h)\n",
    "    ux_dy = ux_d[1,0,:]\n",
    "    uy_dx= uy_d[0,0,:]\n",
    "    \n",
    "    # Compute right-hand side for predictor\n",
    "    rhsx = torch.einsum('ji,ki,klj->li', u[0], ux_d[0], c) + torch.einsum('pi,i->pi',u[1],ux_dy) \\\n",
    "           - vis * (ux_dd[0] + ux_dd[1])\n",
    "    rhsy = torch.einsum('pi,i->pi',u[0],uy_dx) + torch.einsum('ji,ki,klj->li', u[1], uy_d[1], c) \\\n",
    "           - vis * (uy_dd[0] + uy_dd[1])\n",
    "    \n",
    "    # Predict new values of u (predictor estimate)\n",
    "    # u_pred_x = u[0] - rhsx * dt\n",
    "    # u_pred_y = u[1] - rhsy * dt\n",
    "    ut[0, :, :, n] = u[0] - rhsx * dt\n",
    "    ut[1, :, :, n] = u[1] - rhsy * dt\n",
    "    \n",
    "    # Corrector step\n",
    "    # Update the derivatives and right-hand side using the predictor values\n",
    "    # ux_d_pred = SPH(u_pred_x, h, 0)\n",
    "    # uy_d_pred = SPH(u_pred_y, h, 1)\n",
    "    # ux_dd_pred = SPH_d(ux_d_pred, h)\n",
    "    # uy_dd_pred = SPH_d(uy_d_pred, h)\n",
    "    \n",
    "    # # Compute right-hand side for corrector\n",
    "    # rhsx_pred = torch.einsum('ji,ki,jlk->li', u_pred_x, ux_d_pred[0], c) + torch.einsum('ji,ki,jlk->li', u_pred_y, ux_d_pred[1], c) \\\n",
    "    #             - vis * (ux_dd_pred[0] + ux_dd_pred[1])\n",
    "    # rhsy_pred = torch.einsum('ji,ki,jlk->li', u_pred_x, uy_d_pred[0], c) + torch.einsum('ji,ki,jlk->li', u_pred_y, uy_d_pred[1], c) \\\n",
    "    #             - vis * (uy_dd_pred[0] + uy_dd_pred[1])\n",
    "    \n",
    "    # Correct the time integration with the average of predictor and corrector rhs\n",
    "    # ut[0, :, :, n] = u[0] - 0.5 * (rhsx + rhsx_pred) * dt\n",
    "    # ut[1, :, :, n] = u[1] - 0.5 * (rhsy + rhsy_pred) * dt\n",
    "    \n",
    "    # Boundary conditions\n",
    "    ut[0, :, torch.logical_or(x_mask,y_mask), n] = 0\n",
    "    ut[1, :, torch.logical_or(x_mask,y_mask), n] = 0\n",
    "\n",
    "    coords = coords +  (ut[:,:,:,n]).transpose(0,2).transpose(0,1) * dt\n",
    "    coordinates[:,:,:,n]=coords\n",
    "    print(f\"Completed the {n}^th timestep\")"
   ]
  },
  {
   "cell_type": "code",
   "execution_count": 57,
   "metadata": {},
   "outputs": [],
   "source": [
    "import pickle\n",
    "\n",
    "with open('results_pce_12_new.pkl', 'wb') as file:\n",
    "    pickle.dump(ut.numpy(), file)\n",
    "with open('coords_pce_12_new.pkl', 'wb') as file:\n",
    "    pickle.dump(coordinates.numpy(), file)"
   ]
  },
  {
   "cell_type": "code",
   "execution_count": 58,
   "metadata": {},
   "outputs": [],
   "source": [
    "t2=time.time()"
   ]
  },
  {
   "cell_type": "code",
   "execution_count": 59,
   "metadata": {},
   "outputs": [
    {
     "name": "stdout",
     "output_type": "stream",
     "text": [
      "Total time taken 22.454259856541952 mins\n"
     ]
    }
   ],
   "source": [
    "print(f\"Total time taken {(t2-t1)/60} mins\")"
   ]
  }
 ],
 "metadata": {
  "kernelspec": {
   "display_name": "Python 3 (ipykernel)",
   "language": "python",
   "name": "python3"
  },
  "language_info": {
   "codemirror_mode": {
    "name": "ipython",
    "version": 3
   },
   "file_extension": ".py",
   "mimetype": "text/x-python",
   "name": "python",
   "nbconvert_exporter": "python",
   "pygments_lexer": "ipython3",
   "version": "3.11.7"
  }
 },
 "nbformat": 4,
 "nbformat_minor": 4
}
